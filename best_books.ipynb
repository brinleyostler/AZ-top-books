{
 "cells": [
  {
   "cell_type": "code",
   "execution_count": 65,
   "metadata": {},
   "outputs": [],
   "source": [
    "import pandas as pd\n",
    "import numpy as np\n",
    "import seaborn as sns\n",
    "import matplotlib.pyplot as plt\n",
    "from selenium import webdriver\n",
    "from selenium.webdriver.chrome.service import Service as ChromeService\n",
    "from webdriver_manager.chrome import ChromeDriverManager\n",
    "from selenium.webdriver.common.by import By\n",
    "import time\n",
    "import re"
   ]
  },
  {
   "cell_type": "markdown",
   "metadata": {},
   "source": [
    "# SELENIUM - XPath Webscraping"
   ]
  },
  {
   "cell_type": "markdown",
   "metadata": {},
   "source": [
    "## E-book Scraping:\n",
    "Here is the link for the top 1,000 E-books at the Greater Phoenix Digital Library."
   ]
  },
  {
   "cell_type": "code",
   "execution_count": 2,
   "metadata": {},
   "outputs": [],
   "source": [
    "url_e = 'https://phoenix.overdrive.com/collection/25972'"
   ]
  },
  {
   "cell_type": "markdown",
   "metadata": {},
   "source": [
    "We will use the driver to access the website:"
   ]
  },
  {
   "cell_type": "code",
   "execution_count": 3,
   "metadata": {},
   "outputs": [],
   "source": [
    "driver = webdriver.Chrome(service=ChromeService(ChromeDriverManager().install()))"
   ]
  },
  {
   "cell_type": "markdown",
   "metadata": {},
   "source": [
    "We will use Selenium to utilize the Chrome web driver to access and scrape the data using their XPaths.\n",
    "\n",
    "Here is the code to access the information for just the first book:"
   ]
  },
  {
   "cell_type": "code",
   "execution_count": null,
   "metadata": {},
   "outputs": [],
   "source": [
    "#container_e = driver.find_element(By.XPATH, \".//section[contains(@id, 'search')]\")\n",
    "#all_books = container_e.find_elements(By.XPATH, \".//li[contains(@class, 'js-titleCard Item')]\")"
   ]
  },
  {
   "cell_type": "code",
   "execution_count": 6,
   "metadata": {},
   "outputs": [],
   "source": [
    "#all_books[0].find_element(By.XPATH, \".//h3[contains(@class, 'title-name')]\").text  # book title\n",
    "#all_books[0].find_element(By.XPATH, \".//p[contains(@class, 'title-author')]\").text.replace('by ', '')  # author\n",
    "#all_books[0].find_element(By.XPATH, \".//div[contains(@class, 'title-header-bar')]\").text  # availability\n",
    "#all_books[0].find_element(By.XPATH, \".//span[contains(@class, 'title-format-badge')]\").text  # book format\n",
    "#all_books[0].find_element(By.XPATH, \".//div[contains(@class, 'TitleInfo')]/h3/a\").get_attribute('href')  # book link\n",
    "\n",
    "#pagination = driver.find_element(By.XPATH, './/ul[contains(@class, \"Pagination-itemsContainer\")]')\n",
    "#pagination.find_elements(By.XPATH, './/a[contains(@class, \"Pagination-item\")]')[-2].text"
   ]
  },
  {
   "cell_type": "markdown",
   "metadata": {},
   "source": [
    "We will use that same code to access the information for all the books.\n",
    "\n",
    "*Since the list is very long and on 42 different sites, we will limit our scraping to just the first 10 pages (top 240 e-books).*"
   ]
  },
  {
   "cell_type": "code",
   "execution_count": 5,
   "metadata": {},
   "outputs": [],
   "source": [
    "book_titles = []\n",
    "book_authors = []\n",
    "book_availability = []\n",
    "book_formats = []\n",
    "book_links = []\n",
    "book_ranks = []\n",
    "\n",
    "current_page = 1\n",
    "last_page = 10  # we will only scrape the first 10 pages (240 elements total)\n",
    "rank = 1\n",
    "\n",
    "driver.get(url_e)\n",
    "\n",
    "while current_page <= last_page:\n",
    "    container_e = driver.find_element(By.XPATH, \".//section[contains(@id, 'search')]\")\n",
    "    all_ebooks = container_e.find_elements(By.XPATH, \".//li[contains(@class, 'js-titleCard Item')]\")\n",
    "\n",
    "    for book in all_ebooks:\n",
    "        title = book.find_element(By.XPATH, \".//h3[contains(@class, 'title-name')]\").text\n",
    "        book_titles.append(title)\n",
    "\n",
    "        author = book.find_element(By.XPATH, \".//p[contains(@class, 'title-author')]\").text.replace('by ', '')\n",
    "        book_authors.append(author)\n",
    "\n",
    "        availability = book.find_element(By.XPATH, \".//div[contains(@class, 'title-header-bar')]\").text\n",
    "        book_availability.append(availability)\n",
    "\n",
    "        format = book.find_element(By.XPATH, \".//span[contains(@class, 'title-format-badge')]\").text\n",
    "        book_formats.append(format)\n",
    "\n",
    "        link = book.find_element(By.XPATH, \".//div[contains(@class, 'TitleInfo')]/h3/a\").get_attribute('href')\n",
    "        book_links.append(link)\n",
    "\n",
    "        book_ranks.append(rank)\n",
    "        rank += 1\n",
    "\n",
    "    try:\n",
    "        next_button = driver.find_element(By.XPATH, './/a[contains(@class, \"Pagination-item\") and @aria-label=\"Next page\"]')\n",
    "        next_button.click()\n",
    "        current_page += 1\n",
    "        time.sleep(2)\n",
    "\n",
    "    except:\n",
    "        pass\n",
    " \n",
    "driver.quit()\n"
   ]
  },
  {
   "cell_type": "code",
   "execution_count": 6,
   "metadata": {},
   "outputs": [
    {
     "data": {
      "text/plain": [
       "240"
      ]
     },
     "execution_count": 6,
     "metadata": {},
     "output_type": "execute_result"
    }
   ],
   "source": [
    "book_ranks[-1]"
   ]
  },
  {
   "cell_type": "markdown",
   "metadata": {},
   "source": [
    "## Audiobook Scraping:\n",
    "Here is the link for the top 1,000 audiobooks on the Greater Phoenix Digital Library."
   ]
  },
  {
   "cell_type": "code",
   "execution_count": 7,
   "metadata": {},
   "outputs": [],
   "source": [
    "driver = webdriver.Chrome(service=ChromeService(ChromeDriverManager().install()))\n",
    "\n",
    "url_a = 'https://phoenix.overdrive.com/collection/25978'"
   ]
  },
  {
   "cell_type": "markdown",
   "metadata": {},
   "source": [
    "Since we want our database to be altogether, we will not declare new book lists. We will simply add on to our lists already defined in the ebook section. We will gather all the same information.\n",
    "\n",
    "Similarly, we will only scrape the first 10 pages, accessing the top 240 audiobooks and truncating them on our ebook list for a grand total of the top 480 books (there may be some overlap)."
   ]
  },
  {
   "cell_type": "code",
   "execution_count": 8,
   "metadata": {},
   "outputs": [],
   "source": [
    "current_page = 1  # redeclare this variable to reset to the first page of the new url\n",
    "last_page = 10  # we will only scrape the first 10 pages (240 elements total)\n",
    "rank = 1  # reset to 1\n",
    "\n",
    "driver.get(url_a)\n",
    "\n",
    "while current_page <= last_page:\n",
    "    container_a = driver.find_element(By.XPATH, \".//section[contains(@id, 'search')]\")\n",
    "    all_abooks = container_a.find_elements(By.XPATH, \".//li[contains(@class, 'js-titleCard Item')]\")\n",
    "\n",
    "    for book in all_abooks:\n",
    "        title = book.find_element(By.XPATH, \".//h3[contains(@class, 'title-name')]\").text\n",
    "        book_titles.append(title)\n",
    "\n",
    "        author = book.find_element(By.XPATH, \".//p[contains(@class, 'title-author')]\").text.replace('by ', '')\n",
    "        book_authors.append(author)\n",
    "\n",
    "        availability = book.find_element(By.XPATH, \".//div[contains(@class, 'title-header-bar')]\").text\n",
    "        book_availability.append(availability)\n",
    "\n",
    "        format = book.find_element(By.XPATH, \".//span[contains(@class, 'title-format-badge')]\").text\n",
    "        book_formats.append(format)\n",
    "\n",
    "        link = book.find_element(By.XPATH, \".//div[contains(@class, 'TitleInfo')]/h3/a\").get_attribute('href')\n",
    "        book_links.append(link)\n",
    "\n",
    "        book_ranks.append(rank)\n",
    "        rank += 1\n",
    "\n",
    "    try:\n",
    "        next_button = driver.find_element(By.XPATH, './/a[contains(@class, \"Pagination-item\") and @aria-label=\"Next page\"]')\n",
    "        next_button.click()\n",
    "        current_page += 1\n",
    "        time.sleep(2)\n",
    "\n",
    "    except:\n",
    "        pass\n",
    " \n",
    "driver.quit()\n"
   ]
  },
  {
   "cell_type": "code",
   "execution_count": 9,
   "metadata": {},
   "outputs": [
    {
     "data": {
      "text/plain": [
       "240"
      ]
     },
     "execution_count": 9,
     "metadata": {},
     "output_type": "execute_result"
    }
   ],
   "source": [
    "book_ranks[-1]"
   ]
  },
  {
   "cell_type": "code",
   "execution_count": null,
   "metadata": {},
   "outputs": [],
   "source": []
  },
  {
   "cell_type": "markdown",
   "metadata": {},
   "source": [
    "## Accessing Individual Websites   \n",
    "Now that we have scraped our list of books with Selenium, we will continue scraping our data, now from each individual website."
   ]
  },
  {
   "cell_type": "code",
   "execution_count": 10,
   "metadata": {},
   "outputs": [
    {
     "data": {
      "text/plain": [
       "['https://phoenix.overdrive.com/media/9768977?cid=25972',\n",
       " 'https://phoenix.overdrive.com/media/8839068?cid=25972',\n",
       " 'https://phoenix.overdrive.com/media/5376582?cid=25972',\n",
       " 'https://phoenix.overdrive.com/media/2461050?cid=25972',\n",
       " 'https://phoenix.overdrive.com/media/10012377?cid=25972']"
      ]
     },
     "execution_count": 10,
     "metadata": {},
     "output_type": "execute_result"
    }
   ],
   "source": [
    "book_links[0:5]"
   ]
  },
  {
   "cell_type": "markdown",
   "metadata": {},
   "source": [
    "Since we'll be opening 480 individual sites, we want to now operate with a sleep timer in our for loop to sleep for two seconds after accessing each link.\n",
    "\n",
    "While this will take our code much longer to run, we want to follow good practice in web scraping and avoid crashing or overloading any website.\n",
    "\n",
    "*Depending on the speed of your computer and browser, the code will run for at least 960 seconds (16 minutes). Mine ran for about 20 minutes.*"
   ]
  },
  {
   "cell_type": "code",
   "execution_count": 37,
   "metadata": {},
   "outputs": [],
   "source": [
    "#driver = webdriver.Chrome(service=ChromeService(ChromeDriverManager().install()))\n",
    "#driver.get(book_links[2])\n",
    "#container = driver.find_element(By.CLASS_NAME, 'title-header-container')\n",
    "\n",
    "# COPIES TOTAL\n",
    "#copies_x = container.find_element(By.XPATH, \".//span[contains(@class, 'availabilityText')]\").text\n",
    "#copies_y = re.sub(r' cop(y|ies) available', '', copies_x)  # removes the phrase\n",
    "#copies = int(re.sub(r'.* of ', '', copies_y))\n",
    "\n",
    "# STARS RATING\n",
    "#stars = container.find_element(By.XPATH, \".//div[contains(@class, 'StarRating')]\").get_attribute('data-global-rating')\n",
    "\n",
    "#driver.quit()"
   ]
  },
  {
   "cell_type": "code",
   "execution_count": 40,
   "metadata": {},
   "outputs": [],
   "source": [
    "driver.quit()"
   ]
  },
  {
   "cell_type": "code",
   "execution_count": 41,
   "metadata": {},
   "outputs": [],
   "source": [
    "book_copies = []\n",
    "book_ratings = []\n",
    "\n",
    "count = 0\n",
    "\n",
    "driver = webdriver.Chrome(service=ChromeService(ChromeDriverManager().install()))  #, options=options\n",
    "\n",
    "for link in book_links:\n",
    "    count += 1\n",
    "    driver.get(link)\n",
    "    \n",
    "    time.sleep(2)\n",
    "    \n",
    "    container = driver.find_element(By.CLASS_NAME, 'title-header-container')\n",
    "\n",
    "    try:\n",
    "        copies_x = container.find_element(By.XPATH, \".//span[contains(@class, 'availabilityText')]\").text\n",
    "        copies_y = re.sub(r' cop(y|ies) available', '', copies_x)  # removes the phrase 'copies available'\n",
    "        copies = int(re.sub(r'.* of ', '', copies_y))  # keeps only the number of copies\n",
    "    except:\n",
    "        copies = None\n",
    "    book_copies.append(copies)\n",
    "\n",
    "    try:\n",
    "        rating_x = container.find_element(By.XPATH, \".//div[contains(@class, 'StarRating')]\").get_attribute('data-global-rating')\n",
    "        rating = float(rating_x)\n",
    "    except:\n",
    "        rating = None\n",
    "    book_ratings.append(rating)\n",
    "    \n",
    "    \n",
    "driver.quit()\n",
    "        "
   ]
  },
  {
   "cell_type": "code",
   "execution_count": 42,
   "metadata": {},
   "outputs": [
    {
     "data": {
      "text/plain": [
       "480"
      ]
     },
     "execution_count": 42,
     "metadata": {},
     "output_type": "execute_result"
    }
   ],
   "source": [
    "len(book_ratings)"
   ]
  },
  {
   "cell_type": "code",
   "execution_count": 46,
   "metadata": {},
   "outputs": [
    {
     "data": {
      "text/plain": [
       "int"
      ]
     },
     "execution_count": 46,
     "metadata": {},
     "output_type": "execute_result"
    }
   ],
   "source": [
    "type(book_copies[0])"
   ]
  },
  {
   "cell_type": "markdown",
   "metadata": {},
   "source": [
    "# PANDAS DataFrame\n",
    "Now we will assemble the data we have just scraped into a pandas dataframe"
   ]
  },
  {
   "cell_type": "code",
   "execution_count": 48,
   "metadata": {},
   "outputs": [
    {
     "data": {
      "text/html": [
       "<div>\n",
       "<style scoped>\n",
       "    .dataframe tbody tr th:only-of-type {\n",
       "        vertical-align: middle;\n",
       "    }\n",
       "\n",
       "    .dataframe tbody tr th {\n",
       "        vertical-align: top;\n",
       "    }\n",
       "\n",
       "    .dataframe thead th {\n",
       "        text-align: right;\n",
       "    }\n",
       "</style>\n",
       "<table border=\"1\" class=\"dataframe\">\n",
       "  <thead>\n",
       "    <tr style=\"text-align: right;\">\n",
       "      <th></th>\n",
       "      <th>Rank</th>\n",
       "      <th>Title</th>\n",
       "      <th>Author</th>\n",
       "      <th>Rating</th>\n",
       "      <th>Format</th>\n",
       "      <th>Copies</th>\n",
       "      <th>Availability</th>\n",
       "    </tr>\n",
       "  </thead>\n",
       "  <tbody>\n",
       "    <tr>\n",
       "      <th>0</th>\n",
       "      <td>1</td>\n",
       "      <td>The Women</td>\n",
       "      <td>Kristin Hannah</td>\n",
       "      <td>4.5</td>\n",
       "      <td>EBOOK</td>\n",
       "      <td>25.0</td>\n",
       "      <td>WAIT LIST</td>\n",
       "    </tr>\n",
       "    <tr>\n",
       "      <th>1</th>\n",
       "      <td>2</td>\n",
       "      <td>Desert Star</td>\n",
       "      <td>Michael Connelly</td>\n",
       "      <td>4.3</td>\n",
       "      <td>EBOOK</td>\n",
       "      <td>25.0</td>\n",
       "      <td>AVAILABLE</td>\n",
       "    </tr>\n",
       "    <tr>\n",
       "      <th>2</th>\n",
       "      <td>3</td>\n",
       "      <td>Five Total Strangers</td>\n",
       "      <td>Natalie D. Richards</td>\n",
       "      <td>3.5</td>\n",
       "      <td>EBOOK</td>\n",
       "      <td>12.0</td>\n",
       "      <td>AVAILABLE</td>\n",
       "    </tr>\n",
       "    <tr>\n",
       "      <th>3</th>\n",
       "      <td>4</td>\n",
       "      <td>It Ends With Us</td>\n",
       "      <td>Colleen Hoover</td>\n",
       "      <td>4.3</td>\n",
       "      <td>EBOOK</td>\n",
       "      <td>15.0</td>\n",
       "      <td>WAIT LIST</td>\n",
       "    </tr>\n",
       "    <tr>\n",
       "      <th>4</th>\n",
       "      <td>5</td>\n",
       "      <td>Funny Story</td>\n",
       "      <td>Emily Henry</td>\n",
       "      <td>4.2</td>\n",
       "      <td>EBOOK</td>\n",
       "      <td>18.0</td>\n",
       "      <td>WAIT LIST</td>\n",
       "    </tr>\n",
       "  </tbody>\n",
       "</table>\n",
       "</div>"
      ],
      "text/plain": [
       "   Rank                 Title               Author  Rating Format  Copies  \\\n",
       "0     1             The Women       Kristin Hannah     4.5  EBOOK    25.0   \n",
       "1     2           Desert Star     Michael Connelly     4.3  EBOOK    25.0   \n",
       "2     3  Five Total Strangers  Natalie D. Richards     3.5  EBOOK    12.0   \n",
       "3     4       It Ends With Us       Colleen Hoover     4.3  EBOOK    15.0   \n",
       "4     5           Funny Story          Emily Henry     4.2  EBOOK    18.0   \n",
       "\n",
       "  Availability  \n",
       "0    WAIT LIST  \n",
       "1    AVAILABLE  \n",
       "2    AVAILABLE  \n",
       "3    WAIT LIST  \n",
       "4    WAIT LIST  "
      ]
     },
     "execution_count": 48,
     "metadata": {},
     "output_type": "execute_result"
    }
   ],
   "source": [
    "top_books = pd.DataFrame({'Rank': book_ranks, 'Title': book_titles, 'Author': book_authors, 'Rating': book_ratings,\n",
    "                          'Format': book_formats, 'Copies': book_copies, 'Availability': book_availability})\n",
    "top_books.head()"
   ]
  },
  {
   "cell_type": "code",
   "execution_count": 49,
   "metadata": {},
   "outputs": [],
   "source": [
    "# Save the dataframe to a csv file\n",
    "top_books.to_csv('AZ_top_books.csv', index=False)"
   ]
  },
  {
   "cell_type": "markdown",
   "metadata": {},
   "source": [
    "# Exploratory Data Analysis\n",
    "Here we will calculate summary statistics & create plots that help explain and summarize the data we just scraped."
   ]
  },
  {
   "cell_type": "markdown",
   "metadata": {},
   "source": [
    "## Exploratory Plots\n",
    "Let's use Seaborn and matplotlib to summarize the data using plots"
   ]
  },
  {
   "cell_type": "code",
   "execution_count": 51,
   "metadata": {},
   "outputs": [
    {
     "data": {
      "text/plain": [
       "<Axes: xlabel='Availability', ylabel='count'>"
      ]
     },
     "execution_count": 51,
     "metadata": {},
     "output_type": "execute_result"
    },
    {
     "data": {
      "image/png": "[encoded data removed]",
      "text/plain": [
       "<Figure size 640x480 with 1 Axes>"
      ]
     },
     "metadata": {},
     "output_type": "display_data"
    }
   ],
   "source": [
    "# Create a bar plot of books marked 'wait list' and books marked 'available'\n",
    "sns.countplot(data=top_books, x='Availability')"
   ]
  },
  {
   "cell_type": "code",
   "execution_count": 59,
   "metadata": {},
   "outputs": [
    {
     "data": {
      "text/plain": [
       "<Axes: xlabel='Rank', ylabel='Rating'>"
      ]
     },
     "execution_count": 59,
     "metadata": {},
     "output_type": "execute_result"
    },
    {
     "data": {
      "image/png": "[encoded data removed]",
      "text/plain": [
       "<Figure size 640x480 with 1 Axes>"
      ]
     },
     "metadata": {},
     "output_type": "display_data"
    }
   ],
   "source": [
    "# Create a scatter plot of the rank and the rating of the books\n",
    "# Layer a regression line on top of the scatter plot, remove SE bars\n",
    "sns.regplot(data=top_books, x='Rank', y='Rating', ci=None, color='red')\n",
    "sns.scatterplot(data=top_books, x='Rank', y='Rating')"
   ]
  },
  {
   "cell_type": "code",
   "execution_count": 60,
   "metadata": {},
   "outputs": [
    {
     "data": {
      "text/plain": [
       "<Axes: xlabel='Rank', ylabel='Copies'>"
      ]
     },
     "execution_count": 60,
     "metadata": {},
     "output_type": "execute_result"
    },
    {
     "data": {
      "image/png": "[encoded data removed]",
      "text/plain": [
       "<Figure size 640x480 with 1 Axes>"
      ]
     },
     "metadata": {},
     "output_type": "display_data"
    }
   ],
   "source": [
    "# Create a scatter plot of the rank and the number of copies of the books\n",
    "# Layer a regression line on top of the scatter plot, remove SE bars\n",
    "sns.regplot(data=top_books, x='Rank', y='Copies', ci=None, color='green')\n",
    "sns.scatterplot(data=top_books, x='Rank', y='Copies')"
   ]
  },
  {
   "cell_type": "code",
   "execution_count": 68,
   "metadata": {},
   "outputs": [
    {
     "data": {
      "text/plain": [
       "([0, 1, 2, 3, 4, 5, 6, 7, 8, 9],\n",
       " [Text(0, 0, 'Sarah J. Maas'),\n",
       "  Text(1, 0, 'James Patterson'),\n",
       "  Text(2, 0, 'John Grisham'),\n",
       "  Text(3, 0, 'Lee Child'),\n",
       "  Text(4, 0, 'David Baldacci'),\n",
       "  Text(5, 0, 'Freida McFadden'),\n",
       "  Text(6, 0, 'Michael Connelly'),\n",
       "  Text(7, 0, 'Colleen Hoover'),\n",
       "  Text(8, 0, 'Kristin Hannah'),\n",
       "  Text(9, 0, 'Emily Henry')])"
      ]
     },
     "execution_count": 68,
     "metadata": {},
     "output_type": "execute_result"
    },
    {
     "data": {
      "image/png": "[encoded data removed]",
      "text/plain": [
       "<Figure size 640x480 with 1 Axes>"
      ]
     },
     "metadata": {},
     "output_type": "display_data"
    }
   ],
   "source": [
    "# Create a bar plot of the top 5 authors with the most books in the dataset\n",
    "top_authors = top_books['Author'].value_counts().head(10)\n",
    "\n",
    "# Rotate authors' names for better visualization\n",
    "sns.barplot(x=top_authors.index, y=top_authors.values)\n",
    "plt.xticks(rotation=45)"
   ]
  },
  {
   "cell_type": "markdown",
   "metadata": {},
   "source": [
    "## Summary Statistics\n",
    "Let's summarize the data in our plots"
   ]
  },
  {
   "cell_type": "code",
   "execution_count": 71,
   "metadata": {},
   "outputs": [
    {
     "data": {
      "text/html": [
       "<div>\n",
       "<style scoped>\n",
       "    .dataframe tbody tr th:only-of-type {\n",
       "        vertical-align: middle;\n",
       "    }\n",
       "\n",
       "    .dataframe tbody tr th {\n",
       "        vertical-align: top;\n",
       "    }\n",
       "\n",
       "    .dataframe thead th {\n",
       "        text-align: right;\n",
       "    }\n",
       "</style>\n",
       "<table border=\"1\" class=\"dataframe\">\n",
       "  <thead>\n",
       "    <tr style=\"text-align: right;\">\n",
       "      <th></th>\n",
       "      <th>Title</th>\n",
       "      <th>Author</th>\n",
       "    </tr>\n",
       "  </thead>\n",
       "  <tbody>\n",
       "    <tr>\n",
       "      <th>0</th>\n",
       "      <td>The Women</td>\n",
       "      <td>Kristin Hannah</td>\n",
       "    </tr>\n",
       "    <tr>\n",
       "      <th>1</th>\n",
       "      <td>Desert Star</td>\n",
       "      <td>Michael Connelly</td>\n",
       "    </tr>\n",
       "    <tr>\n",
       "      <th>2</th>\n",
       "      <td>It Ends With Us</td>\n",
       "      <td>Colleen Hoover</td>\n",
       "    </tr>\n",
       "    <tr>\n",
       "      <th>3</th>\n",
       "      <td>Funny Story</td>\n",
       "      <td>Emily Henry</td>\n",
       "    </tr>\n",
       "    <tr>\n",
       "      <th>4</th>\n",
       "      <td>Iron Flame</td>\n",
       "      <td>Rebecca Yarros</td>\n",
       "    </tr>\n",
       "    <tr>\n",
       "      <th>...</th>\n",
       "      <td>...</td>\n",
       "      <td>...</td>\n",
       "    </tr>\n",
       "    <tr>\n",
       "      <th>94</th>\n",
       "      <td>Ruthless Vows</td>\n",
       "      <td>Rebecca Ross</td>\n",
       "    </tr>\n",
       "    <tr>\n",
       "      <th>95</th>\n",
       "      <td>The Four Winds</td>\n",
       "      <td>Kristin Hannah</td>\n",
       "    </tr>\n",
       "    <tr>\n",
       "      <th>96</th>\n",
       "      <td>The Only One Left</td>\n",
       "      <td>Riley Sager</td>\n",
       "    </tr>\n",
       "    <tr>\n",
       "      <th>97</th>\n",
       "      <td>Friends, Lovers, and the Big Terrible Thing</td>\n",
       "      <td>Matthew Perry</td>\n",
       "    </tr>\n",
       "    <tr>\n",
       "      <th>98</th>\n",
       "      <td>Pretty Girls</td>\n",
       "      <td>Karin Slaughter</td>\n",
       "    </tr>\n",
       "  </tbody>\n",
       "</table>\n",
       "<p>99 rows × 2 columns</p>\n",
       "</div>"
      ],
      "text/plain": [
       "                                          Title            Author\n",
       "0                                     The Women    Kristin Hannah\n",
       "1                                   Desert Star  Michael Connelly\n",
       "2                               It Ends With Us    Colleen Hoover\n",
       "3                                   Funny Story       Emily Henry\n",
       "4                                    Iron Flame    Rebecca Yarros\n",
       "..                                          ...               ...\n",
       "94                                Ruthless Vows      Rebecca Ross\n",
       "95                               The Four Winds    Kristin Hannah\n",
       "96                            The Only One Left       Riley Sager\n",
       "97  Friends, Lovers, and the Big Terrible Thing     Matthew Perry\n",
       "98                                 Pretty Girls   Karin Slaughter\n",
       "\n",
       "[99 rows x 2 columns]"
      ]
     },
     "execution_count": 71,
     "metadata": {},
     "output_type": "execute_result"
    }
   ],
   "source": [
    "# Which books appear as both an ebook and an audiobook?\n",
    "ebooks = top_books[top_books['Format'] == 'EBOOK']\n",
    "audiobooks = top_books[top_books['Format'] == 'AUDIOBOOK']\n",
    "\n",
    "# find the titles (with the authors column) that appear in both 'ebooks' and 'audiobooks'\n",
    "common_books = ebooks.merge(audiobooks, on=['Title', 'Author'], how='inner')\n",
    "common_books[['Title', 'Author']]"
   ]
  },
  {
   "cell_type": "code",
   "execution_count": 73,
   "metadata": {},
   "outputs": [
    {
     "name": "stdout",
     "output_type": "stream",
     "text": [
      "Average ebook rating:  3.910416666666667\n",
      "Average audiobook rating:  3.8549999999999995\n"
     ]
    }
   ],
   "source": [
    "# Find average rating of books that are audio books and books that are ebooks\n",
    "rating_e = ebooks['Rating'].mean()\n",
    "rating_a = audiobooks['Rating'].mean()\n",
    "print(r'Average ebook rating: ', rating_e)\n",
    "print(r'Average audiobook rating: ', rating_a)"
   ]
  },
  {
   "cell_type": "code",
   "execution_count": 74,
   "metadata": {},
   "outputs": [
    {
     "name": "stdout",
     "output_type": "stream",
     "text": [
      "Correlation between rating and rank:  -0.04544902953768914\n"
     ]
    }
   ],
   "source": [
    "# Calculate the correlation between the rating and the rank\n",
    "correlation = top_books['Rating'].corr(top_books['Rank'])\n",
    "print(r'Correlation between rating and rank: ', correlation)"
   ]
  },
  {
   "cell_type": "code",
   "execution_count": 76,
   "metadata": {},
   "outputs": [
    {
     "name": "stdout",
     "output_type": "stream",
     "text": [
      "Average number of copies of available books:  15.911764705882353\n",
      "Average number of copies of books on wait list:  9.796195652173912\n"
     ]
    }
   ],
   "source": [
    "# Average number of copies of books that are available and books that are on wait list\n",
    "copies_a = top_books[top_books['Availability'] == 'AVAILABLE']['Copies'].mean()\n",
    "copies_wl = top_books[top_books['Availability'] == 'WAIT LIST']['Copies'].mean()\n",
    "print(r'Average number of copies of available books: ', copies_a)\n",
    "print(r'Average number of copies of books on wait list: ', copies_wl)"
   ]
  },
  {
   "cell_type": "code",
   "execution_count": 77,
   "metadata": {},
   "outputs": [
    {
     "name": "stdout",
     "output_type": "stream",
     "text": [
      "Max number of copies:  121.0\n",
      "Min number of copies:  0.0\n",
      "Book with the highest rating:  A Court of Mist and Fury\n",
      "Book with the lowest rating:  The Life Impossible\n",
      "Book with the most copies:  The Boyfriend\n"
     ]
    }
   ],
   "source": [
    "# Print max and min number of copies of books\n",
    "max_copies = top_books['Copies'].max()\n",
    "min_copies = top_books['Copies'].min()\n",
    "print(r'Max number of copies: ', max_copies)\n",
    "print(r'Min number of copies: ', min_copies)\n",
    "\n",
    "# Print the title of the book with the highest rating\n",
    "max_rating = top_books['Rating'].max()\n",
    "title_max = top_books[top_books['Rating'] == max_rating]['Title'].values[0]\n",
    "print(r'Book with the highest rating: ', title_max)\n",
    "\n",
    "# Print the title of the book with the lowest rating\n",
    "min_rating = top_books['Rating'].min()\n",
    "title_min = top_books[top_books['Rating'] == min_rating]['Title'].values[0]\n",
    "print(r'Book with the lowest rating: ', title_min)\n",
    "\n",
    "# Print the title of the book with the most copies\n",
    "most_copies = top_books['Copies'].max()\n",
    "title_most = top_books[top_books['Copies'] == most_copies]['Title'].values[0]\n",
    "print(r'Book with the most copies: ', title_most)\n",
    "\n"
   ]
  }
 ],
 "metadata": {
  "kernelspec": {
   "display_name": "classes24",
   "language": "python",
   "name": "python3"
  },
  "language_info": {
   "codemirror_mode": {
    "name": "ipython",
    "version": 3
   },
   "file_extension": ".py",
   "mimetype": "text/x-python",
   "name": "python",
   "nbconvert_exporter": "python",
   "pygments_lexer": "ipython3",
   "version": "3.12.5"
  }
 },
 "nbformat": 4,
 "nbformat_minor": 2
}
