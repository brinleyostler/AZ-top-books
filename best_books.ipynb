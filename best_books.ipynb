{
 "cells": [
  {
   "cell_type": "code",
   "execution_count": 1,
   "metadata": {},
   "outputs": [],
   "source": [
    "import pandas as pd\n",
    "import numpy as np\n",
    "import seaborn as sns\n",
    "import matplotlib.pyplot as plt\n",
    "from selenium import webdriver\n",
    "from selenium.webdriver.chrome.service import Service as ChromeService\n",
    "from webdriver_manager.chrome import ChromeDriverManager\n",
    "from selenium.webdriver.common.by import By\n",
    "import time\n",
    "import re"
   ]
  },
  {
   "cell_type": "markdown",
   "metadata": {},
   "source": [
    "# SELENIUM - XPath Webscraping"
   ]
  },
  {
   "cell_type": "markdown",
   "metadata": {},
   "source": [
    "## E-book Scraping:\n",
    "Here is the link for the top 1,000 E-books at the Greater Phoenix Digital Library."
   ]
  },
  {
   "cell_type": "code",
   "execution_count": 2,
   "metadata": {},
   "outputs": [],
   "source": [
    "url_e = 'https://phoenix.overdrive.com/collection/25972'"
   ]
  },
  {
   "cell_type": "markdown",
   "metadata": {},
   "source": [
    "We will use the driver to access the website:"
   ]
  },
  {
   "cell_type": "code",
   "execution_count": 3,
   "metadata": {},
   "outputs": [],
   "source": [
    "driver = webdriver.Chrome(service=ChromeService(ChromeDriverManager().install()))"
   ]
  },
  {
   "cell_type": "markdown",
   "metadata": {},
   "source": [
    "We will use Selenium to utilize the Chrome web driver to access and scrape the data using their XPaths.\n",
    "\n",
    "Here is the code to access the information for just the first book:"
   ]
  },
  {
   "cell_type": "code",
   "execution_count": null,
   "metadata": {},
   "outputs": [],
   "source": [
    "#container_e = driver.find_element(By.XPATH, \".//section[contains(@id, 'search')]\")\n",
    "#all_books = container_e.find_elements(By.XPATH, \".//li[contains(@class, 'js-titleCard Item')]\")"
   ]
  },
  {
   "cell_type": "code",
   "execution_count": 6,
   "metadata": {},
   "outputs": [],
   "source": [
    "#all_books[0].find_element(By.XPATH, \".//h3[contains(@class, 'title-name')]\").text  # book title\n",
    "#all_books[0].find_element(By.XPATH, \".//p[contains(@class, 'title-author')]\").text.replace('by ', '')  # author\n",
    "#all_books[0].find_element(By.XPATH, \".//div[contains(@class, 'title-header-bar')]\").text  # availability\n",
    "#all_books[0].find_element(By.XPATH, \".//span[contains(@class, 'title-format-badge')]\").text  # book format\n",
    "#all_books[0].find_element(By.XPATH, \".//div[contains(@class, 'TitleInfo')]/h3/a\").get_attribute('href')  # book link\n",
    "\n",
    "#pagination = driver.find_element(By.XPATH, './/ul[contains(@class, \"Pagination-itemsContainer\")]')\n",
    "#pagination.find_elements(By.XPATH, './/a[contains(@class, \"Pagination-item\")]')[-2].text"
   ]
  },
  {
   "cell_type": "markdown",
   "metadata": {},
   "source": [
    "We will use that same code to access the information for all the books.\n",
    "\n",
    "*Since the list is very long and on 42 different sites, we will limit our scraping to just the first 10 pages (top 240 e-books).*"
   ]
  },
  {
   "cell_type": "code",
   "execution_count": 4,
   "metadata": {},
   "outputs": [],
   "source": [
    "book_titles = []\n",
    "book_authors = []\n",
    "book_availability = []\n",
    "book_formats = []\n",
    "book_links = []\n",
    "book_ranks = []\n",
    "\n",
    "current_page = 1\n",
    "last_page = 10  # we will only scrape the first 10 pages (240 elements total)\n",
    "rank = 1\n",
    "\n",
    "driver.get(url_e)\n",
    "\n",
    "while current_page <= last_page:\n",
    "    container_e = driver.find_element(By.XPATH, \".//section[contains(@id, 'search')]\")\n",
    "    all_ebooks = container_e.find_elements(By.XPATH, \".//li[contains(@class, 'js-titleCard Item')]\")\n",
    "\n",
    "    for book in all_ebooks:\n",
    "        title = book.find_element(By.XPATH, \".//h3[contains(@class, 'title-name')]\").text\n",
    "        book_titles.append(title)\n",
    "\n",
    "        author = book.find_element(By.XPATH, \".//p[contains(@class, 'title-author')]\").text.replace('by ', '')\n",
    "        book_authors.append(author)\n",
    "\n",
    "        availability = book.find_element(By.XPATH, \".//div[contains(@class, 'title-header-bar')]\").text\n",
    "        book_availability.append(availability)\n",
    "\n",
    "        format = book.find_element(By.XPATH, \".//span[contains(@class, 'title-format-badge')]\").text\n",
    "        book_formats.append(format)\n",
    "\n",
    "        link = book.find_element(By.XPATH, \".//div[contains(@class, 'TitleInfo')]/h3/a\").get_attribute('href')\n",
    "        book_links.append(link)\n",
    "\n",
    "        book_ranks.append(rank)\n",
    "        rank += 1\n",
    "\n",
    "    try:\n",
    "        next_button = driver.find_element(By.XPATH, './/a[contains(@class, \"Pagination-item\") and @aria-label=\"Next page\"]')\n",
    "        next_button.click()\n",
    "        current_page += 1\n",
    "        time.sleep(2)\n",
    "\n",
    "    except:\n",
    "        pass\n",
    " \n",
    "driver.quit()\n"
   ]
  },
  {
   "cell_type": "code",
   "execution_count": 5,
   "metadata": {},
   "outputs": [
    {
     "data": {
      "text/plain": [
       "240"
      ]
     },
     "execution_count": 5,
     "metadata": {},
     "output_type": "execute_result"
    }
   ],
   "source": [
    "book_ranks[-1]"
   ]
  },
  {
   "cell_type": "markdown",
   "metadata": {},
   "source": [
    "## Audiobook Scraping:\n",
    "Here is the link for the top 1,000 audiobooks on the Greater Phoenix Digital Library."
   ]
  },
  {
   "cell_type": "code",
   "execution_count": 6,
   "metadata": {},
   "outputs": [],
   "source": [
    "driver = webdriver.Chrome(service=ChromeService(ChromeDriverManager().install()))\n",
    "\n",
    "url_a = 'https://phoenix.overdrive.com/collection/25978'"
   ]
  },
  {
   "cell_type": "markdown",
   "metadata": {},
   "source": [
    "Since we want our database to be altogether, we will not declare new book lists. We will simply add on to our lists already defined in the ebook section. We will gather all the same information.\n",
    "\n",
    "Similarly, we will only scrape the first 10 pages, accessing the top 240 audiobooks and truncating them on our ebook list for a grand total of the top 480 books (there may be some overlap)."
   ]
  },
  {
   "cell_type": "code",
   "execution_count": 7,
   "metadata": {},
   "outputs": [],
   "source": [
    "current_page = 1  # redeclare this variable to reset to the first page of the new url\n",
    "last_page = 10  # we will only scrape the first 10 pages (240 elements total)\n",
    "rank = 1  # reset to 1\n",
    "\n",
    "driver.get(url_a)\n",
    "\n",
    "while current_page <= last_page:\n",
    "    container_a = driver.find_element(By.XPATH, \".//section[contains(@id, 'search')]\")\n",
    "    all_abooks = container_a.find_elements(By.XPATH, \".//li[contains(@class, 'js-titleCard Item')]\")\n",
    "\n",
    "    for book in all_abooks:\n",
    "        title = book.find_element(By.XPATH, \".//h3[contains(@class, 'title-name')]\").text\n",
    "        book_titles.append(title)\n",
    "\n",
    "        author = book.find_element(By.XPATH, \".//p[contains(@class, 'title-author')]\").text.replace('by ', '')\n",
    "        book_authors.append(author)\n",
    "\n",
    "        availability = book.find_element(By.XPATH, \".//div[contains(@class, 'title-header-bar')]\").text\n",
    "        book_availability.append(availability)\n",
    "\n",
    "        format = book.find_element(By.XPATH, \".//span[contains(@class, 'title-format-badge')]\").text\n",
    "        book_formats.append(format)\n",
    "\n",
    "        link = book.find_element(By.XPATH, \".//div[contains(@class, 'TitleInfo')]/h3/a\").get_attribute('href')\n",
    "        book_links.append(link)\n",
    "\n",
    "        book_ranks.append(rank)\n",
    "        rank += 1\n",
    "\n",
    "    try:\n",
    "        next_button = driver.find_element(By.XPATH, './/a[contains(@class, \"Pagination-item\") and @aria-label=\"Next page\"]')\n",
    "        next_button.click()\n",
    "        current_page += 1\n",
    "        time.sleep(2)\n",
    "\n",
    "    except:\n",
    "        pass\n",
    " \n",
    "driver.quit()\n"
   ]
  },
  {
   "cell_type": "code",
   "execution_count": 8,
   "metadata": {},
   "outputs": [
    {
     "data": {
      "text/plain": [
       "240"
      ]
     },
     "execution_count": 8,
     "metadata": {},
     "output_type": "execute_result"
    }
   ],
   "source": [
    "book_ranks[-1]"
   ]
  },
  {
   "cell_type": "code",
   "execution_count": null,
   "metadata": {},
   "outputs": [],
   "source": []
  },
  {
   "cell_type": "markdown",
   "metadata": {},
   "source": [
    "## Accessing Individual Websites   \n",
    "Now that we have scraped our list of books with Selenium, we will continue scraping our data, now from each individual website."
   ]
  },
  {
   "cell_type": "code",
   "execution_count": 9,
   "metadata": {},
   "outputs": [
    {
     "data": {
      "text/plain": [
       "['https://phoenix.overdrive.com/media/9768977?cid=25972',\n",
       " 'https://phoenix.overdrive.com/media/5376582?cid=25972',\n",
       " 'https://phoenix.overdrive.com/media/2461050?cid=25972',\n",
       " 'https://phoenix.overdrive.com/media/10012377?cid=25972',\n",
       " 'https://phoenix.overdrive.com/media/9835979?cid=25972']"
      ]
     },
     "execution_count": 9,
     "metadata": {},
     "output_type": "execute_result"
    }
   ],
   "source": [
    "book_links[0:5]"
   ]
  },
  {
   "cell_type": "markdown",
   "metadata": {},
   "source": [
    "Since we'll be opening 480 individual sites, we want to now operate with a sleep timer in our for loop to sleep for two seconds after accessing each link.\n",
    "\n",
    "While this will take our code much longer to run, we want to follow good practice in web scraping and avoid crashing or overloading any website.\n",
    "\n",
    "*Depending on the speed of your computer and browser, the code will run for at least 960 seconds (16 minutes). Mine ran for about 20 minutes.*"
   ]
  },
  {
   "cell_type": "code",
   "execution_count": 13,
   "metadata": {},
   "outputs": [
    {
     "data": {
      "text/plain": [
       "'6 months'"
      ]
     },
     "execution_count": 13,
     "metadata": {},
     "output_type": "execute_result"
    }
   ],
   "source": [
    "#driver = webdriver.Chrome(service=ChromeService(ChromeDriverManager().install()))\n",
    "#driver.get(book_links[2])\n",
    "#container = driver.find_element(By.CLASS_NAME, 'title-header-container')\n",
    "\n",
    "# COPIES TOTAL\n",
    "#copies_x = container.find_element(By.XPATH, \".//span[contains(@class, 'availabilityText')]\").text\n",
    "#copies_y = re.sub(r' cop(y|ies) available', '', copies_x)  # removes the phrase\n",
    "#copies = int(re.sub(r'.* of ', '', copies_y))\n",
    "\n",
    "# STARS RATING\n",
    "#stars = container.find_element(By.XPATH, \".//div[contains(@class, 'StarRating')]\").get_attribute('data-global-rating')\n",
    "\n",
    "# WAIT TIME\n",
    "#wait_x = container.find_element(By.XPATH, \".//span[contains(@class, 'waitingText')]\").text\n",
    "#wait = re.sub(r'Wait time: (At least|About) ', '', wait_x)  # removes the phrase 'Wait time: '\n",
    "\n",
    "#driver.quit()"
   ]
  },
  {
   "cell_type": "code",
   "execution_count": 15,
   "metadata": {},
   "outputs": [],
   "source": [
    "driver.quit()"
   ]
  },
  {
   "cell_type": "code",
   "execution_count": 16,
   "metadata": {},
   "outputs": [],
   "source": [
    "book_copies = []\n",
    "book_ratings = []\n",
    "book_waits = []\n",
    "\n",
    "count = 0\n",
    "\n",
    "driver = webdriver.Chrome(service=ChromeService(ChromeDriverManager().install()))  #, options=options\n",
    "\n",
    "for link in book_links:\n",
    "    count += 1\n",
    "    driver.get(link)\n",
    "    \n",
    "    time.sleep(2)\n",
    "    \n",
    "    container = driver.find_element(By.CLASS_NAME, 'title-header-container')\n",
    "\n",
    "    try:\n",
    "        copies_x = container.find_element(By.XPATH, \".//span[contains(@class, 'availabilityText')]\").text\n",
    "        copies_y = re.sub(r' cop(y|ies) available', '', copies_x)  # removes the phrase 'copies available'\n",
    "        copies = int(re.sub(r'.* of ', '', copies_y))  # keeps only the number of copies\n",
    "    except:\n",
    "        copies = None\n",
    "    book_copies.append(copies)\n",
    "\n",
    "    try:\n",
    "        rating_x = container.find_element(By.XPATH, \".//div[contains(@class, 'StarRating')]\").get_attribute('data-global-rating')\n",
    "        rating = float(rating_x)\n",
    "    except:\n",
    "        rating = None\n",
    "    book_ratings.append(rating)\n",
    "\n",
    "    try:\n",
    "        wait_x = container.find_element(By.XPATH, \".//span[contains(@class, 'waitingText')]\").text\n",
    "        wait = re.sub(r'Wait time: (At least|About) ', '', wait_x)  # removes the phrase 'Wait time: '\n",
    "    except:\n",
    "        wait = \"No wait\"\n",
    "    book_waits.append(wait)\n",
    "    \n",
    "    \n",
    "driver.quit()\n",
    "        "
   ]
  },
  {
   "cell_type": "code",
   "execution_count": 17,
   "metadata": {},
   "outputs": [
    {
     "data": {
      "text/plain": [
       "480"
      ]
     },
     "execution_count": 17,
     "metadata": {},
     "output_type": "execute_result"
    }
   ],
   "source": [
    "len(book_ratings)"
   ]
  },
  {
   "cell_type": "code",
   "execution_count": 19,
   "metadata": {},
   "outputs": [
    {
     "data": {
      "text/plain": [
       "str"
      ]
     },
     "execution_count": 19,
     "metadata": {},
     "output_type": "execute_result"
    }
   ],
   "source": [
    "type(book_waits[0])"
   ]
  },
  {
   "cell_type": "code",
   "execution_count": 20,
   "metadata": {},
   "outputs": [
    {
     "name": "stdout",
     "output_type": "stream",
     "text": [
      "['6 months', 'No wait', '6 months', '6 months', '23 weeks', '6 months', 'No wait', '8 weeks', '6 months', '6 months', '6 months', 'No wait', 'Wait time: Available soon', 'No wait', '3 weeks', '6 months', '6 months', '6 months', '6 months', '6 months', '3 weeks', 'No wait', 'No wait', 'No wait', 'No wait', '6 months', '6 months', 'No wait', '6 months', '6 months', '6 months', 'Wait time: Available soon', 'No wait', 'No wait', '6 months', '6 months', '6 months', 'No wait', 'Wait time: Available soon', '6 months', '6 months', '6 months', 'No wait', '6 months', '6 months', '6 months', 'Wait time: Not available', '3 weeks', '13 weeks', 'No wait', 'Wait time: Available soon', '6 months', '6 months', '4 weeks', '12 weeks', 'Wait time: Available soon', '6 months', 'Wait time: Available soon', '6 months', '6 months', '6 months', '6 months', '6 months', 'No wait', '6 months', '6 months', 'No wait', '4 weeks', '6 months', '7 weeks', '6 months', '2 weeks', '24 weeks', '6 weeks', '6 months', '6 months', '13 weeks', '6 months', '6 months', '2 weeks', '6 months', 'No wait', '10 weeks', '19 weeks', 'Wait time: Available soon', '13 weeks', '6 months', '6 months', '6 months', '6 months', 'No wait', 'No wait', '6 months', '6 months', '2 weeks', '6 months', 'No wait', '6 months', 'Wait time: Available soon', '6 months', '6 months', '6 months', 'No wait', '6 months', '6 months', 'No wait', '6 weeks', 'No wait', '10 weeks', '6 months', '6 months', '6 weeks', '6 months', '6 months', '16 weeks', '6 months', '20 weeks', '6 weeks', '6 months', 'No wait', '6 months', 'No wait', '6 weeks', '6 months', '6 months', '6 months', '6 months', 'No wait', '10 weeks', 'No wait', '2 weeks', '6 months', 'No wait', '7 weeks', '6 months', '6 months', '6 months', '6 months', 'No wait', '6 months', '7 weeks', '6 months', 'No wait', 'No wait', '6 months', '6 months', '6 months', '6 months', '6 months', '6 months', '6 months', 'No wait', '19 weeks', '6 months', '10 weeks', 'No wait', '6 months', '6 months', '6 months', '6 months', 'No wait', '6 months', 'No wait', '6 months', '6 months', 'Wait time: Available soon', 'No wait', '6 months', '6 weeks', '8 weeks', 'Wait time: Available soon', 'No wait', '25 weeks', '6 months', '6 months', '6 months', '2 weeks', '6 months', '6 months', '6 months', '16 weeks', '12 weeks', 'No wait', 'Wait time: Available soon', 'No wait', '6 months', '6 months', '6 months', '6 months', '13 weeks', '3 weeks', 'No wait', '6 months', '6 months', 'No wait', '6 months', '6 months', '6 months', 'Wait time: Available soon', '21 weeks', '6 months', 'No wait', 'No wait', '5 weeks', '6 months', 'No wait', '6 months', 'No wait', '6 months', 'Wait time: Available soon', 'No wait', '26 weeks', '6 months', 'No wait', '3 weeks', '6 months', '24 weeks', '14 weeks', 'Wait time: Available soon', '12 weeks', '2 weeks', 'No wait', '25 weeks', '6 months', 'Wait time: Available soon', '6 months', 'No wait', '6 months', '6 months', '2 weeks', '6 weeks', '19 weeks', '24 weeks', '6 months', 'No wait', '2 weeks', '6 months', '2 weeks', 'No wait', '9 weeks', '6 months', '6 months', 'No wait', '6 months', '6 months', '6 months', 'No wait', '6 months', '6 months', '6 months', 'No wait', '6 weeks', 'No wait', '6 months', '2 weeks', '6 months', '6 months', '6 months', '6 months', '6 months', 'No wait', '2 weeks', '6 months', '5 weeks', '6 months', '6 months', 'No wait', 'No wait', '6 months', '23 weeks', 'No wait', '6 months', '6 months', '6 months', 'No wait', 'Wait time: Available soon', 'No wait', '24 weeks', 'Wait time: Available soon', 'No wait', 'Wait time: Available soon', '6 months', 'Wait time: Available soon', 'No wait', 'No wait', '6 months', '6 months', 'No wait', '6 months', 'No wait', 'Wait time: Available soon', 'No wait', '2 weeks', '6 months', 'No wait', '6 months', '6 months', 'Wait time: Available soon', '21 weeks', 'No wait', 'No wait', '20 weeks', 'No wait', '6 months', 'Wait time: Available soon', '10 weeks', '6 months', '6 months', '6 months', '6 months', '2 weeks', '13 weeks', '5 weeks', '9 weeks', 'Wait time: Available soon', '6 months', '15 weeks', '6 months', 'No wait', '2 weeks', 'Wait time: Available soon', 'No wait', 'No wait', 'Wait time: Available soon', 'No wait', '2 weeks', '6 months', '6 months', '24 weeks', '6 months', 'No wait', '6 months', 'No wait', 'No wait', '6 months', 'No wait', '6 months', '6 months', '6 months', '6 months', '6 months', 'Wait time: Available soon', 'Wait time: Available soon', '6 months', '6 months', 'No wait', '6 months', '6 months', '6 months', 'No wait', '18 weeks', '6 months', '3 weeks', '6 months', 'Wait time: Available soon', '6 months', '6 months', 'No wait', '24 weeks', '6 months', '6 months', '6 months', '6 months', '6 months', '6 months', 'No wait', 'Wait time: Available soon', '6 months', '6 months', 'No wait', '2 weeks', '6 months', '3 weeks', '4 weeks', '4 weeks', '6 months', '6 months', '18 weeks', 'No wait', '6 months', '3 weeks', 'No wait', 'Wait time: Available soon', '6 months', 'Wait time: Available soon', '6 months', '6 months', '2 weeks', 'Wait time: Available soon', 'No wait', '20 weeks', '5 weeks', '6 months', 'Wait time: Available soon', '6 months', 'No wait', 'No wait', '6 months', '6 months', 'Wait time: Available soon', '6 months', '6 months', 'No wait', '6 months', '2 weeks', '6 months', 'Wait time: Available soon', '4 weeks', '6 months', '6 months', 'Wait time: Available soon', '2 weeks', 'Wait time: Available soon', 'Wait time: Available soon', '12 weeks', '6 months', 'No wait', '2 weeks', '22 weeks', 'No wait', '6 months', 'No wait', 'No wait', 'Wait time: Available soon', 'No wait', '6 months', '2 weeks', '24 weeks', '3 weeks', 'No wait', '6 months', 'No wait', '6 months', '6 months', 'Wait time: Available soon', '6 months', 'No wait', 'No wait', '6 months', 'Wait time: Available soon', 'Wait time: Available soon', 'Wait time: Available soon', 'No wait', '6 months', '6 months', '19 weeks', '25 weeks', '6 months', 'No wait', '6 months', '2 weeks', 'No wait', 'Wait time: Available soon', 'No wait', '6 months', 'No wait', '6 weeks', 'Wait time: Available soon', '4 weeks', 'Wait time: Available soon', 'No wait', '3 weeks', '6 months', 'Wait time: Available soon', '6 months', '6 months', 'Wait time: Available soon', 'Wait time: Available soon', 'Wait time: Available soon', 'Wait time: Available soon', '6 months', '4 weeks', 'No wait', '6 months', '4 weeks', 'No wait', '6 months', '6 months', '3 weeks', 'Wait time: Available soon']\n"
     ]
    }
   ],
   "source": [
    "print(book_waits)"
   ]
  },
  {
   "cell_type": "markdown",
   "metadata": {},
   "source": [
    "I want to change any 'Available soon' books to show an availability time of 2 weeks."
   ]
  },
  {
   "cell_type": "code",
   "execution_count": 22,
   "metadata": {},
   "outputs": [
    {
     "name": "stdout",
     "output_type": "stream",
     "text": [
      "['6 months', 'No wait', '6 months', '6 months', '23 weeks', '6 months', 'No wait', '8 weeks', '6 months', '6 months', '6 months', 'No wait', '2 weeks', 'No wait', '3 weeks', '6 months', '6 months', '6 months', '6 months', '6 months', '3 weeks', 'No wait', 'No wait', 'No wait', 'No wait', '6 months', '6 months', 'No wait', '6 months', '6 months', '6 months', '2 weeks', 'No wait', 'No wait', '6 months', '6 months', '6 months', 'No wait', '2 weeks', '6 months', '6 months', '6 months', 'No wait', '6 months', '6 months', '6 months', 'Wait time: Not available', '3 weeks', '13 weeks', 'No wait', '2 weeks', '6 months', '6 months', '4 weeks', '12 weeks', '2 weeks', '6 months', '2 weeks', '6 months', '6 months', '6 months', '6 months', '6 months', 'No wait', '6 months', '6 months', 'No wait', '4 weeks', '6 months', '7 weeks', '6 months', '2 weeks', '24 weeks', '6 weeks', '6 months', '6 months', '13 weeks', '6 months', '6 months', '2 weeks', '6 months', 'No wait', '10 weeks', '19 weeks', '2 weeks', '13 weeks', '6 months', '6 months', '6 months', '6 months', 'No wait', 'No wait', '6 months', '6 months', '2 weeks', '6 months', 'No wait', '6 months', '2 weeks', '6 months', '6 months', '6 months', 'No wait', '6 months', '6 months', 'No wait', '6 weeks', 'No wait', '10 weeks', '6 months', '6 months', '6 weeks', '6 months', '6 months', '16 weeks', '6 months', '20 weeks', '6 weeks', '6 months', 'No wait', '6 months', 'No wait', '6 weeks', '6 months', '6 months', '6 months', '6 months', 'No wait', '10 weeks', 'No wait', '2 weeks', '6 months', 'No wait', '7 weeks', '6 months', '6 months', '6 months', '6 months', 'No wait', '6 months', '7 weeks', '6 months', 'No wait', 'No wait', '6 months', '6 months', '6 months', '6 months', '6 months', '6 months', '6 months', 'No wait', '19 weeks', '6 months', '10 weeks', 'No wait', '6 months', '6 months', '6 months', '6 months', 'No wait', '6 months', 'No wait', '6 months', '6 months', '2 weeks', 'No wait', '6 months', '6 weeks', '8 weeks', '2 weeks', 'No wait', '25 weeks', '6 months', '6 months', '6 months', '2 weeks', '6 months', '6 months', '6 months', '16 weeks', '12 weeks', 'No wait', '2 weeks', 'No wait', '6 months', '6 months', '6 months', '6 months', '13 weeks', '3 weeks', 'No wait', '6 months', '6 months', 'No wait', '6 months', '6 months', '6 months', '2 weeks', '21 weeks', '6 months', 'No wait', 'No wait', '5 weeks', '6 months', 'No wait', '6 months', 'No wait', '6 months', '2 weeks', 'No wait', '26 weeks', '6 months', 'No wait', '3 weeks', '6 months', '24 weeks', '14 weeks', '2 weeks', '12 weeks', '2 weeks', 'No wait', '25 weeks', '6 months', '2 weeks', '6 months', 'No wait', '6 months', '6 months', '2 weeks', '6 weeks', '19 weeks', '24 weeks', '6 months', 'No wait', '2 weeks', '6 months', '2 weeks', 'No wait', '9 weeks', '6 months', '6 months', 'No wait', '6 months', '6 months', '6 months', 'No wait', '6 months', '6 months', '6 months', 'No wait', '6 weeks', 'No wait', '6 months', '2 weeks', '6 months', '6 months', '6 months', '6 months', '6 months', 'No wait', '2 weeks', '6 months', '5 weeks', '6 months', '6 months', 'No wait', 'No wait', '6 months', '23 weeks', 'No wait', '6 months', '6 months', '6 months', 'No wait', '2 weeks', 'No wait', '24 weeks', '2 weeks', 'No wait', '2 weeks', '6 months', '2 weeks', 'No wait', 'No wait', '6 months', '6 months', 'No wait', '6 months', 'No wait', '2 weeks', 'No wait', '2 weeks', '6 months', 'No wait', '6 months', '6 months', '2 weeks', '21 weeks', 'No wait', 'No wait', '20 weeks', 'No wait', '6 months', '2 weeks', '10 weeks', '6 months', '6 months', '6 months', '6 months', '2 weeks', '13 weeks', '5 weeks', '9 weeks', '2 weeks', '6 months', '15 weeks', '6 months', 'No wait', '2 weeks', '2 weeks', 'No wait', 'No wait', '2 weeks', 'No wait', '2 weeks', '6 months', '6 months', '24 weeks', '6 months', 'No wait', '6 months', 'No wait', 'No wait', '6 months', 'No wait', '6 months', '6 months', '6 months', '6 months', '6 months', '2 weeks', '2 weeks', '6 months', '6 months', 'No wait', '6 months', '6 months', '6 months', 'No wait', '18 weeks', '6 months', '3 weeks', '6 months', '2 weeks', '6 months', '6 months', 'No wait', '24 weeks', '6 months', '6 months', '6 months', '6 months', '6 months', '6 months', 'No wait', '2 weeks', '6 months', '6 months', 'No wait', '2 weeks', '6 months', '3 weeks', '4 weeks', '4 weeks', '6 months', '6 months', '18 weeks', 'No wait', '6 months', '3 weeks', 'No wait', '2 weeks', '6 months', '2 weeks', '6 months', '6 months', '2 weeks', '2 weeks', 'No wait', '20 weeks', '5 weeks', '6 months', '2 weeks', '6 months', 'No wait', 'No wait', '6 months', '6 months', '2 weeks', '6 months', '6 months', 'No wait', '6 months', '2 weeks', '6 months', '2 weeks', '4 weeks', '6 months', '6 months', '2 weeks', '2 weeks', '2 weeks', '2 weeks', '12 weeks', '6 months', 'No wait', '2 weeks', '22 weeks', 'No wait', '6 months', 'No wait', 'No wait', '2 weeks', 'No wait', '6 months', '2 weeks', '24 weeks', '3 weeks', 'No wait', '6 months', 'No wait', '6 months', '6 months', '2 weeks', '6 months', 'No wait', 'No wait', '6 months', '2 weeks', '2 weeks', '2 weeks', 'No wait', '6 months', '6 months', '19 weeks', '25 weeks', '6 months', 'No wait', '6 months', '2 weeks', 'No wait', '2 weeks', 'No wait', '6 months', 'No wait', '6 weeks', '2 weeks', '4 weeks', '2 weeks', 'No wait', '3 weeks', '6 months', '2 weeks', '6 months', '6 months', '2 weeks', '2 weeks', '2 weeks', '2 weeks', '6 months', '4 weeks', 'No wait', '6 months', '4 weeks', 'No wait', '6 months', '6 months', '3 weeks', '2 weeks']\n"
     ]
    }
   ],
   "source": [
    "# Replace any 'Wait time: Available soon' with '2 weeks'\n",
    "book_waits_x = book_waits.copy()\n",
    "book_waits_x = [x.replace('Wait time: Available soon', '2 weeks') for x in book_waits_x]\n",
    "\n",
    "print(book_waits_x)"
   ]
  },
  {
   "cell_type": "markdown",
   "metadata": {},
   "source": [
    "# PANDAS DataFrame\n",
    "Now we will assemble the data we have just scraped into a pandas dataframe"
   ]
  },
  {
   "cell_type": "code",
   "execution_count": 31,
   "metadata": {},
   "outputs": [
    {
     "data": {
      "text/html": [
       "<div>\n",
       "<style scoped>\n",
       "    .dataframe tbody tr th:only-of-type {\n",
       "        vertical-align: middle;\n",
       "    }\n",
       "\n",
       "    .dataframe tbody tr th {\n",
       "        vertical-align: top;\n",
       "    }\n",
       "\n",
       "    .dataframe thead th {\n",
       "        text-align: right;\n",
       "    }\n",
       "</style>\n",
       "<table border=\"1\" class=\"dataframe\">\n",
       "  <thead>\n",
       "    <tr style=\"text-align: right;\">\n",
       "      <th></th>\n",
       "      <th>Rank</th>\n",
       "      <th>Title</th>\n",
       "      <th>Author</th>\n",
       "      <th>Rating</th>\n",
       "      <th>Format</th>\n",
       "      <th>Copies</th>\n",
       "      <th>Availability</th>\n",
       "      <th>Wait Time</th>\n",
       "    </tr>\n",
       "  </thead>\n",
       "  <tbody>\n",
       "    <tr>\n",
       "      <th>0</th>\n",
       "      <td>1</td>\n",
       "      <td>The Women</td>\n",
       "      <td>Kristin Hannah</td>\n",
       "      <td>4.4</td>\n",
       "      <td>EBOOK</td>\n",
       "      <td>25.0</td>\n",
       "      <td>WAIT LIST</td>\n",
       "      <td>6 months</td>\n",
       "    </tr>\n",
       "    <tr>\n",
       "      <th>1</th>\n",
       "      <td>2</td>\n",
       "      <td>Five Total Strangers</td>\n",
       "      <td>Natalie D. Richards</td>\n",
       "      <td>3.5</td>\n",
       "      <td>EBOOK</td>\n",
       "      <td>12.0</td>\n",
       "      <td>AVAILABLE</td>\n",
       "      <td>No wait</td>\n",
       "    </tr>\n",
       "    <tr>\n",
       "      <th>2</th>\n",
       "      <td>3</td>\n",
       "      <td>It Ends With Us</td>\n",
       "      <td>Colleen Hoover</td>\n",
       "      <td>4.3</td>\n",
       "      <td>EBOOK</td>\n",
       "      <td>15.0</td>\n",
       "      <td>WAIT LIST</td>\n",
       "      <td>6 months</td>\n",
       "    </tr>\n",
       "    <tr>\n",
       "      <th>3</th>\n",
       "      <td>4</td>\n",
       "      <td>Funny Story</td>\n",
       "      <td>Emily Henry</td>\n",
       "      <td>4.2</td>\n",
       "      <td>EBOOK</td>\n",
       "      <td>18.0</td>\n",
       "      <td>WAIT LIST</td>\n",
       "      <td>6 months</td>\n",
       "    </tr>\n",
       "    <tr>\n",
       "      <th>4</th>\n",
       "      <td>5</td>\n",
       "      <td>Iron Flame</td>\n",
       "      <td>Rebecca Yarros</td>\n",
       "      <td>4.2</td>\n",
       "      <td>EBOOK</td>\n",
       "      <td>18.0</td>\n",
       "      <td>WAIT LIST</td>\n",
       "      <td>23 weeks</td>\n",
       "    </tr>\n",
       "  </tbody>\n",
       "</table>\n",
       "</div>"
      ],
      "text/plain": [
       "   Rank                 Title               Author  Rating Format  Copies  \\\n",
       "0     1             The Women       Kristin Hannah     4.4  EBOOK    25.0   \n",
       "1     2  Five Total Strangers  Natalie D. Richards     3.5  EBOOK    12.0   \n",
       "2     3       It Ends With Us       Colleen Hoover     4.3  EBOOK    15.0   \n",
       "3     4           Funny Story          Emily Henry     4.2  EBOOK    18.0   \n",
       "4     5            Iron Flame       Rebecca Yarros     4.2  EBOOK    18.0   \n",
       "\n",
       "  Availability Wait Time  \n",
       "0    WAIT LIST  6 months  \n",
       "1    AVAILABLE   No wait  \n",
       "2    WAIT LIST  6 months  \n",
       "3    WAIT LIST  6 months  \n",
       "4    WAIT LIST  23 weeks  "
      ]
     },
     "execution_count": 31,
     "metadata": {},
     "output_type": "execute_result"
    }
   ],
   "source": [
    "top_books = pd.DataFrame({'Rank': book_ranks, 'Title': book_titles, 'Author': book_authors, 'Rating': book_ratings,\n",
    "                          'Format': book_formats, 'Copies': book_copies, 'Availability': book_availability, \n",
    "                          'Wait Time': book_waits_x})\n",
    "top_books.head()"
   ]
  },
  {
   "cell_type": "markdown",
   "metadata": {},
   "source": [
    "Let's now create a new column based on the 'Wait Time' column where we will convert all wait times into weeks."
   ]
  },
  {
   "cell_type": "code",
   "execution_count": 32,
   "metadata": {},
   "outputs": [
    {
     "data": {
      "text/html": [
       "<div>\n",
       "<style scoped>\n",
       "    .dataframe tbody tr th:only-of-type {\n",
       "        vertical-align: middle;\n",
       "    }\n",
       "\n",
       "    .dataframe tbody tr th {\n",
       "        vertical-align: top;\n",
       "    }\n",
       "\n",
       "    .dataframe thead th {\n",
       "        text-align: right;\n",
       "    }\n",
       "</style>\n",
       "<table border=\"1\" class=\"dataframe\">\n",
       "  <thead>\n",
       "    <tr style=\"text-align: right;\">\n",
       "      <th></th>\n",
       "      <th>Rank</th>\n",
       "      <th>Title</th>\n",
       "      <th>Author</th>\n",
       "      <th>Rating</th>\n",
       "      <th>Format</th>\n",
       "      <th>Copies</th>\n",
       "      <th>Availability</th>\n",
       "      <th>Wait Time</th>\n",
       "      <th>Wait Weeks</th>\n",
       "    </tr>\n",
       "  </thead>\n",
       "  <tbody>\n",
       "    <tr>\n",
       "      <th>0</th>\n",
       "      <td>1</td>\n",
       "      <td>The Women</td>\n",
       "      <td>Kristin Hannah</td>\n",
       "      <td>4.4</td>\n",
       "      <td>EBOOK</td>\n",
       "      <td>25.0</td>\n",
       "      <td>WAIT LIST</td>\n",
       "      <td>6 months</td>\n",
       "      <td>24.0</td>\n",
       "    </tr>\n",
       "    <tr>\n",
       "      <th>1</th>\n",
       "      <td>2</td>\n",
       "      <td>Five Total Strangers</td>\n",
       "      <td>Natalie D. Richards</td>\n",
       "      <td>3.5</td>\n",
       "      <td>EBOOK</td>\n",
       "      <td>12.0</td>\n",
       "      <td>AVAILABLE</td>\n",
       "      <td>No wait</td>\n",
       "      <td>0.0</td>\n",
       "    </tr>\n",
       "    <tr>\n",
       "      <th>2</th>\n",
       "      <td>3</td>\n",
       "      <td>It Ends With Us</td>\n",
       "      <td>Colleen Hoover</td>\n",
       "      <td>4.3</td>\n",
       "      <td>EBOOK</td>\n",
       "      <td>15.0</td>\n",
       "      <td>WAIT LIST</td>\n",
       "      <td>6 months</td>\n",
       "      <td>24.0</td>\n",
       "    </tr>\n",
       "    <tr>\n",
       "      <th>3</th>\n",
       "      <td>4</td>\n",
       "      <td>Funny Story</td>\n",
       "      <td>Emily Henry</td>\n",
       "      <td>4.2</td>\n",
       "      <td>EBOOK</td>\n",
       "      <td>18.0</td>\n",
       "      <td>WAIT LIST</td>\n",
       "      <td>6 months</td>\n",
       "      <td>24.0</td>\n",
       "    </tr>\n",
       "    <tr>\n",
       "      <th>4</th>\n",
       "      <td>5</td>\n",
       "      <td>Iron Flame</td>\n",
       "      <td>Rebecca Yarros</td>\n",
       "      <td>4.2</td>\n",
       "      <td>EBOOK</td>\n",
       "      <td>18.0</td>\n",
       "      <td>WAIT LIST</td>\n",
       "      <td>23 weeks</td>\n",
       "      <td>23.0</td>\n",
       "    </tr>\n",
       "  </tbody>\n",
       "</table>\n",
       "</div>"
      ],
      "text/plain": [
       "   Rank                 Title               Author  Rating Format  Copies  \\\n",
       "0     1             The Women       Kristin Hannah     4.4  EBOOK    25.0   \n",
       "1     2  Five Total Strangers  Natalie D. Richards     3.5  EBOOK    12.0   \n",
       "2     3       It Ends With Us       Colleen Hoover     4.3  EBOOK    15.0   \n",
       "3     4           Funny Story          Emily Henry     4.2  EBOOK    18.0   \n",
       "4     5            Iron Flame       Rebecca Yarros     4.2  EBOOK    18.0   \n",
       "\n",
       "  Availability Wait Time  Wait Weeks  \n",
       "0    WAIT LIST  6 months        24.0  \n",
       "1    AVAILABLE   No wait         0.0  \n",
       "2    WAIT LIST  6 months        24.0  \n",
       "3    WAIT LIST  6 months        24.0  \n",
       "4    WAIT LIST  23 weeks        23.0  "
      ]
     },
     "execution_count": 32,
     "metadata": {},
     "output_type": "execute_result"
    }
   ],
   "source": [
    "def wait_weeks(wait_time):\n",
    "    if 'months' in wait_time:\n",
    "        months = int(re.sub(r' months', '', wait_time))\n",
    "        return months * 4  # Convert months to weeks\n",
    "    elif 'weeks' in wait_time:\n",
    "        weeks = int(re.sub(r' weeks', '', wait_time))\n",
    "        return weeks\n",
    "    elif 'No wait' in wait_time:\n",
    "        return 0\n",
    "    else:\n",
    "        return None  \n",
    "\n",
    "# Apply the function to create the 'Wait Weeks' column\n",
    "top_books['Wait Weeks'] = top_books['Wait Time'].apply(wait_weeks)\n",
    "\n",
    "top_books.head()"
   ]
  },
  {
   "cell_type": "markdown",
   "metadata": {},
   "source": [
    "Now we can save our dataframe as a csv file (included in my GitHub repository)."
   ]
  },
  {
   "cell_type": "code",
   "execution_count": 33,
   "metadata": {},
   "outputs": [],
   "source": [
    "# Save the dataframe to a csv file\n",
    "top_books.to_csv('AZ_top_books.csv', index=False)"
   ]
  },
  {
   "cell_type": "markdown",
   "metadata": {},
   "source": [
    "# Exploratory Data Analysis\n",
    "Here we will calculate summary statistics & create plots that help explain and summarize the data we just scraped."
   ]
  },
  {
   "cell_type": "markdown",
   "metadata": {},
   "source": [
    "## Exploratory Plots\n",
    "Let's use Seaborn and matplotlib to summarize the data using plots"
   ]
  },
  {
   "cell_type": "code",
   "execution_count": 34,
   "metadata": {},
   "outputs": [
    {
     "data": {
      "text/plain": [
       "<Axes: xlabel='Availability', ylabel='count'>"
      ]
     },
     "execution_count": 34,
     "metadata": {},
     "output_type": "execute_result"
    },
    {
     "data": {
      "image/png": "[encoded data removed]",
      "text/plain": [
       "<Figure size 640x480 with 1 Axes>"
      ]
     },
     "metadata": {},
     "output_type": "display_data"
    }
   ],
   "source": [
    "# Create a bar plot of books marked 'wait list' and books marked 'available'\n",
    "sns.countplot(data=top_books, x='Availability')"
   ]
  },
  {
   "cell_type": "code",
   "execution_count": 35,
   "metadata": {},
   "outputs": [
    {
     "data": {
      "text/plain": [
       "<Axes: xlabel='Rank', ylabel='Rating'>"
      ]
     },
     "execution_count": 35,
     "metadata": {},
     "output_type": "execute_result"
    },
    {
     "data": {
      "image/png": "[encoded data removed]",
      "text/plain": [
       "<Figure size 640x480 with 1 Axes>"
      ]
     },
     "metadata": {},
     "output_type": "display_data"
    }
   ],
   "source": [
    "# Create a scatter plot of the rank and the rating of the books\n",
    "# Layer a regression line on top of the scatter plot, remove SE bars\n",
    "sns.regplot(data=top_books, x='Rank', y='Rating', ci=None, color='red')\n",
    "sns.scatterplot(data=top_books, x='Rank', y='Rating')"
   ]
  },
  {
   "cell_type": "code",
   "execution_count": 36,
   "metadata": {},
   "outputs": [
    {
     "data": {
      "text/plain": [
       "<Axes: xlabel='Rank', ylabel='Copies'>"
      ]
     },
     "execution_count": 36,
     "metadata": {},
     "output_type": "execute_result"
    },
    {
     "data": {
      "image/png": "[encoded data removed]",
      "text/plain": [
       "<Figure size 640x480 with 1 Axes>"
      ]
     },
     "metadata": {},
     "output_type": "display_data"
    }
   ],
   "source": [
    "# Create a scatter plot of the rank and the number of copies of the books\n",
    "# Layer a regression line on top of the scatter plot, remove SE bars\n",
    "sns.regplot(data=top_books, x='Rank', y='Copies', ci=None, color='green')\n",
    "sns.scatterplot(data=top_books, x='Rank', y='Copies')"
   ]
  },
  {
   "cell_type": "code",
   "execution_count": 37,
   "metadata": {},
   "outputs": [
    {
     "data": {
      "text/plain": [
       "<Axes: xlabel='Copies', ylabel='Wait Weeks'>"
      ]
     },
     "execution_count": 37,
     "metadata": {},
     "output_type": "execute_result"
    },
    {
     "data": {
      "image/png": "[encoded data removed]",
      "text/plain": [
       "<Figure size 640x480 with 1 Axes>"
      ]
     },
     "metadata": {},
     "output_type": "display_data"
    }
   ],
   "source": [
    "# Create a scatterplot of the copies and the wait weeks of the books\n",
    "# Layer a regression line on top of the scatter plot, remove SE bars\n",
    "sns.regplot(data=top_books, x='Copies', y='Wait Weeks', ci=None, color='purple')"
   ]
  },
  {
   "cell_type": "code",
   "execution_count": 39,
   "metadata": {},
   "outputs": [
    {
     "data": {
      "text/plain": [
       "<Axes: xlabel='Format', ylabel='Wait Weeks'>"
      ]
     },
     "execution_count": 39,
     "metadata": {},
     "output_type": "execute_result"
    },
    {
     "data": {
      "image/png": "[encoded data removed]",
      "text/plain": [
       "<Figure size 640x480 with 1 Axes>"
      ]
     },
     "metadata": {},
     "output_type": "display_data"
    }
   ],
   "source": [
    "# Create boxplots of the wait weeks of the ebooks vs audiobooks\n",
    "sns.boxplot(data=top_books, x='Format', y='Wait Weeks')"
   ]
  },
  {
   "cell_type": "code",
   "execution_count": 40,
   "metadata": {},
   "outputs": [
    {
     "data": {
      "text/plain": [
       "([0, 1, 2, 3, 4, 5, 6, 7, 8, 9],\n",
       " [Text(0, 0, 'Sarah J. Maas'),\n",
       "  Text(1, 0, 'John Grisham'),\n",
       "  Text(2, 0, 'James Patterson'),\n",
       "  Text(3, 0, 'Lee Child'),\n",
       "  Text(4, 0, 'Freida McFadden'),\n",
       "  Text(5, 0, 'David Baldacci'),\n",
       "  Text(6, 0, 'Colleen Hoover'),\n",
       "  Text(7, 0, 'Kristin Hannah'),\n",
       "  Text(8, 0, 'Emily Henry'),\n",
       "  Text(9, 0, 'Rebecca Yarros')])"
      ]
     },
     "execution_count": 40,
     "metadata": {},
     "output_type": "execute_result"
    },
    {
     "data": {
      "image/png": "[encoded data removed]",
      "text/plain": [
       "<Figure size 640x480 with 1 Axes>"
      ]
     },
     "metadata": {},
     "output_type": "display_data"
    }
   ],
   "source": [
    "# Create a bar plot of the top 5 authors with the most books in the dataset\n",
    "top_authors = top_books['Author'].value_counts().head(10)\n",
    "\n",
    "# Rotate authors' names for better visualization\n",
    "sns.barplot(x=top_authors.index, y=top_authors.values)\n",
    "plt.xticks(rotation=45)"
   ]
  },
  {
   "cell_type": "markdown",
   "metadata": {},
   "source": [
    "## Summary Statistics\n",
    "Let's summarize the data in our plots"
   ]
  },
  {
   "cell_type": "code",
   "execution_count": 41,
   "metadata": {},
   "outputs": [
    {
     "data": {
      "text/html": [
       "<div>\n",
       "<style scoped>\n",
       "    .dataframe tbody tr th:only-of-type {\n",
       "        vertical-align: middle;\n",
       "    }\n",
       "\n",
       "    .dataframe tbody tr th {\n",
       "        vertical-align: top;\n",
       "    }\n",
       "\n",
       "    .dataframe thead th {\n",
       "        text-align: right;\n",
       "    }\n",
       "</style>\n",
       "<table border=\"1\" class=\"dataframe\">\n",
       "  <thead>\n",
       "    <tr style=\"text-align: right;\">\n",
       "      <th></th>\n",
       "      <th>Title</th>\n",
       "      <th>Author</th>\n",
       "    </tr>\n",
       "  </thead>\n",
       "  <tbody>\n",
       "    <tr>\n",
       "      <th>0</th>\n",
       "      <td>The Women</td>\n",
       "      <td>Kristin Hannah</td>\n",
       "    </tr>\n",
       "    <tr>\n",
       "      <th>1</th>\n",
       "      <td>It Ends With Us</td>\n",
       "      <td>Colleen Hoover</td>\n",
       "    </tr>\n",
       "    <tr>\n",
       "      <th>2</th>\n",
       "      <td>Funny Story</td>\n",
       "      <td>Emily Henry</td>\n",
       "    </tr>\n",
       "    <tr>\n",
       "      <th>3</th>\n",
       "      <td>Iron Flame</td>\n",
       "      <td>Rebecca Yarros</td>\n",
       "    </tr>\n",
       "    <tr>\n",
       "      <th>4</th>\n",
       "      <td>All the Colors of the Dark</td>\n",
       "      <td>Chris Whitaker</td>\n",
       "    </tr>\n",
       "    <tr>\n",
       "      <th>...</th>\n",
       "      <td>...</td>\n",
       "      <td>...</td>\n",
       "    </tr>\n",
       "    <tr>\n",
       "      <th>92</th>\n",
       "      <td>The Ballad of Songbirds and Snakes</td>\n",
       "      <td>Suzanne Collins</td>\n",
       "    </tr>\n",
       "    <tr>\n",
       "      <th>93</th>\n",
       "      <td>The Four Winds</td>\n",
       "      <td>Kristin Hannah</td>\n",
       "    </tr>\n",
       "    <tr>\n",
       "      <th>94</th>\n",
       "      <td>The Only One Left</td>\n",
       "      <td>Riley Sager</td>\n",
       "    </tr>\n",
       "    <tr>\n",
       "      <th>95</th>\n",
       "      <td>Framed</td>\n",
       "      <td>John Grisham</td>\n",
       "    </tr>\n",
       "    <tr>\n",
       "      <th>96</th>\n",
       "      <td>You Shouldn't Have Come Here</td>\n",
       "      <td>Jeneva Rose</td>\n",
       "    </tr>\n",
       "  </tbody>\n",
       "</table>\n",
       "<p>97 rows × 2 columns</p>\n",
       "</div>"
      ],
      "text/plain": [
       "                                 Title           Author\n",
       "0                            The Women   Kristin Hannah\n",
       "1                      It Ends With Us   Colleen Hoover\n",
       "2                          Funny Story      Emily Henry\n",
       "3                           Iron Flame   Rebecca Yarros\n",
       "4           All the Colors of the Dark   Chris Whitaker\n",
       "..                                 ...              ...\n",
       "92  The Ballad of Songbirds and Snakes  Suzanne Collins\n",
       "93                      The Four Winds   Kristin Hannah\n",
       "94                   The Only One Left      Riley Sager\n",
       "95                              Framed     John Grisham\n",
       "96        You Shouldn't Have Come Here      Jeneva Rose\n",
       "\n",
       "[97 rows x 2 columns]"
      ]
     },
     "execution_count": 41,
     "metadata": {},
     "output_type": "execute_result"
    }
   ],
   "source": [
    "# Which books appear as both an ebook and an audiobook?\n",
    "ebooks = top_books[top_books['Format'] == 'EBOOK']\n",
    "audiobooks = top_books[top_books['Format'] == 'AUDIOBOOK']\n",
    "\n",
    "# find the titles (with the authors column) that appear in both 'ebooks' and 'audiobooks'\n",
    "common_books = ebooks.merge(audiobooks, on=['Title', 'Author'], how='inner')\n",
    "common_books[['Title', 'Author']]"
   ]
  },
  {
   "cell_type": "code",
   "execution_count": 42,
   "metadata": {},
   "outputs": [
    {
     "name": "stdout",
     "output_type": "stream",
     "text": [
      "Average ebook rating:  3.892916666666667\n",
      "Average audiobook rating:  3.850416666666667\n"
     ]
    }
   ],
   "source": [
    "# Find average rating of books that are audio books and books that are ebooks\n",
    "rating_e = ebooks['Rating'].mean()\n",
    "rating_a = audiobooks['Rating'].mean()\n",
    "print(r'Average ebook rating: ', rating_e)\n",
    "print(r'Average audiobook rating: ', rating_a)"
   ]
  },
  {
   "cell_type": "code",
   "execution_count": 43,
   "metadata": {},
   "outputs": [
    {
     "name": "stdout",
     "output_type": "stream",
     "text": [
      "Correlation between rating and rank:  -0.06302250759981515\n"
     ]
    }
   ],
   "source": [
    "# Calculate the correlation between the rating and the rank\n",
    "correlation = top_books['Rating'].corr(top_books['Rank'])\n",
    "print(r'Correlation between rating and rank: ', correlation)"
   ]
  },
  {
   "cell_type": "code",
   "execution_count": 44,
   "metadata": {},
   "outputs": [
    {
     "name": "stdout",
     "output_type": "stream",
     "text": [
      "Average number of copies of available books:  15.916666666666666\n",
      "Average number of copies of books on wait list:  9.732620320855615\n"
     ]
    }
   ],
   "source": [
    "# Average number of copies of books that are available and books that are on wait list\n",
    "copies_a = top_books[top_books['Availability'] == 'AVAILABLE']['Copies'].mean()\n",
    "copies_wl = top_books[top_books['Availability'] == 'WAIT LIST']['Copies'].mean()\n",
    "print(r'Average number of copies of available books: ', copies_a)\n",
    "print(r'Average number of copies of books on wait list: ', copies_wl)"
   ]
  },
  {
   "cell_type": "code",
   "execution_count": 45,
   "metadata": {},
   "outputs": [
    {
     "name": "stdout",
     "output_type": "stream",
     "text": [
      "Max number of copies:  68.0\n",
      "Min number of copies:  0.0\n",
      "Book with the highest rating:  A Court of Mist and Fury\n",
      "Book with the lowest rating:  War\n",
      "Book with the most copies:  The Covenant of Water\n"
     ]
    }
   ],
   "source": [
    "# Print max and min number of copies of books\n",
    "max_copies = top_books['Copies'].max()\n",
    "min_copies = top_books['Copies'].min()\n",
    "print(r'Max number of copies: ', max_copies)\n",
    "print(r'Min number of copies: ', min_copies)\n",
    "\n",
    "# Print the title of the book with the highest rating\n",
    "max_rating = top_books['Rating'].max()\n",
    "title_max = top_books[top_books['Rating'] == max_rating]['Title'].values[0]\n",
    "print(r'Book with the highest rating: ', title_max)\n",
    "\n",
    "# Print the title of the book with the lowest rating\n",
    "min_rating = top_books['Rating'].min()\n",
    "title_min = top_books[top_books['Rating'] == min_rating]['Title'].values[0]\n",
    "print(r'Book with the lowest rating: ', title_min)\n",
    "\n",
    "# Print the title of the book with the most copies\n",
    "most_copies = top_books['Copies'].max()\n",
    "title_most = top_books[top_books['Copies'] == most_copies]['Title'].values[0]\n",
    "print(r'Book with the most copies: ', title_most)\n"
   ]
  },
  {
   "cell_type": "code",
   "execution_count": 47,
   "metadata": {},
   "outputs": [
    {
     "name": "stdout",
     "output_type": "stream",
     "text": [
      "Max wait time:  26.0\n",
      "Min wait time:  0.0\n"
     ]
    }
   ],
   "source": [
    "# Print the max and min wait times\n",
    "max_wait = top_books['Wait Weeks'].max()\n",
    "min_wait = top_books['Wait Weeks'].min()\n",
    "print(r'Max wait time: ', max_wait)\n",
    "print(r'Min wait time: ', min_wait)"
   ]
  },
  {
   "cell_type": "code",
   "execution_count": 50,
   "metadata": {},
   "outputs": [
    {
     "name": "stdout",
     "output_type": "stream",
     "text": [
      "Most common wait time by format:  Format\n",
      "AUDIOBOOK    6 months\n",
      "EBOOK        6 months\n",
      "Name: Wait Time, dtype: object\n"
     ]
    }
   ],
   "source": [
    "# Print the most common wait time by format\n",
    "common_wait = top_books.groupby('Format')['Wait Time'].agg(pd.Series.mode)\n",
    "print(r'Most common wait time by format: ', common_wait)"
   ]
  },
  {
   "cell_type": "code",
   "execution_count": 51,
   "metadata": {},
   "outputs": [
    {
     "data": {
      "text/plain": [
       "(480, 9)"
      ]
     },
     "execution_count": 51,
     "metadata": {},
     "output_type": "execute_result"
    }
   ],
   "source": [
    "top_books.shape"
   ]
  }
 ],
 "metadata": {
  "kernelspec": {
   "display_name": "classes24",
   "language": "python",
   "name": "python3"
  },
  "language_info": {
   "codemirror_mode": {
    "name": "ipython",
    "version": 3
   },
   "file_extension": ".py",
   "mimetype": "text/x-python",
   "name": "python",
   "nbconvert_exporter": "python",
   "pygments_lexer": "ipython3",
   "version": "3.12.5"
  }
 },
 "nbformat": 4,
 "nbformat_minor": 2
}
