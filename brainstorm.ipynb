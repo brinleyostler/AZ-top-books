{
 "cells": [
  {
   "cell_type": "markdown",
   "metadata": {},
   "source": [
    "# Questions\n",
    "- What are the most popular books?\n",
    "- Average number of words in a title\n",
    "- Average wait time \n",
    "- What is the distribution of ratings?\n",
    "- How many unique authors are in the dataset?\n",
    "- Who are the most popular authors?\n",
    "- What are the relationships between copies available, wait time, and availability?\n",
    "- Are there significant outliers in the wait weeks or number of copies available?\n",
    "- What are the top-ranked books by rating?\n",
    "- Are higher-ranked books more likely to have higher ratings?\n",
    "- Which books have the longest wait times, and how do their ratings compare?\n",
    "- Do certain authors consistently have high-rated books?\n",
    "- Is there a correlation between the number of books an author has in the dataset and their average rating?\n",
    "- Are books by prolific authors (more books in the dataset) more available or more likely to be on a waitlist?\n",
    "- Do ratings differ significantly between EBOOK and AUDIOBOOK formats?\n",
    "- Are certain formats more likely to have longer wait times?\n",
    "- What is the average number of copies available for each format?\n",
    "- How many books are currently available compared to those on waitlists?\n",
    "- What is the average wait time for books versus audiobooks?\n",
    "- Is there a significant difference in wait weeks for highly rated versus poorly rated books?\n",
    "- How does the rank of a book correlate with its availability?\n",
    "- Are there patterns in wait times for books with similar ratings or formats?\n",
    "- What features correlate most strongly with rating?\n",
    "- Can availability status be predicted based on other features like format, wait weeks, or copies available?\n",
    "- Are higher-ranked books associated with higher availability or fewer wait weeks?\n",
    "- How do the distributions of ratings differ for books on the waitlist versus those available?\n",
    "- Are there differences in the ratings of books with few copies available versus many copies?\n",
    "- Do wait times differ by rating or rank?\n",
    "- Is there a clear trend between rank and rating, availability, or wait time?\n",
    "- Do the top 10 books differ significantly in their features compared to the rest of the dataset?\n",
    "- Are higher-rated books more likely to have fewer copies available due to demand?\n",
    "- Does a book’s rank predict its likelihood of being on a waitlist?\n"
   ]
  },
  {
   "cell_type": "markdown",
   "metadata": {},
   "source": [
    "# Streamlit app ideas:\n",
    "- Enter a # and see the highest ranked book with that # of words in the title\n",
    "- Enter a number 0-5 and it returns the highest ranked books with that rating\n",
    "- Enter a letter & return the highest ranked/highest rated books that start with that letter\n",
    "- Enter a rank 1-240 & return the two types books & their information\n",
    "- Enter a rating & return a bar graph of rankings\n",
    "- Enter a rank & return a bar plot of wait times & box plot of wait weeks\n",
    "- Enter \"audiobook\" or \"ebook\" and return the average rating boxplot\n",
    "- Enter a # of wait weeks & return a plot of ratings\n",
    "- Enter a # to return the top 3, 5, 7, 9, etc. authors \n",
    "- Enter a # of copies and return a bar plot of available vs waitlist\n",
    "- Bar plot of most common start words in the title"
   ]
  },
  {
   "cell_type": "markdown",
   "metadata": {},
   "source": [
    "# EDA ideas\n",
    "- Distributions of ratings for books on waitlist vs available\n",
    "- Wait time as rank increases"
   ]
  }
 ],
 "metadata": {
  "language_info": {
   "name": "python"
  }
 },
 "nbformat": 4,
 "nbformat_minor": 2
}
